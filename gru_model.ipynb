{
 "cells": [
  {
   "cell_type": "code",
   "execution_count": 1,
   "metadata": {
    "collapsed": true
   },
   "outputs": [],
   "source": [
    "import pandas as pd\n",
    "import numpy as np\n",
    "from keras.models import Sequential\n",
    "from keras.layers import Dense, Dropout, GRU\n",
    "from sklearn.metrics import confusion_matrix\n",
    "from sklearn.metrics import classification_report\n",
    "from keras import regularizers\n",
    "from matplotlib import pyplot as plt\n",
    "import seaborn as sns"
   ]
  },
  {
   "cell_type": "code",
   "execution_count": 2,
   "outputs": [],
   "source": [
    "df = pd.read_csv(\"/Users/hussain/Downloads/iot23_combined.csv\")"
   ],
   "metadata": {
    "collapsed": false,
    "pycharm": {
     "name": "#%%\n"
    }
   }
  },
  {
   "cell_type": "code",
   "execution_count": 107,
   "outputs": [
    {
     "data": {
      "text/plain": "PartOfAHorizontalPortScan     825939\nOkiru                         262690\n-   Benign   -                146275\nDDoS                          138777\nBenign                         53481\nC&C                            15100\nAttack                          3915\nC&C-HeartBeat                    349\nC&C-FileDownload                  43\nC&C-Torii                         30\nFileDownload                      13\nC&C-HeartBeat-FileDownload         8\nC&C-Mirai                          1\nName: label, dtype: int64"
     },
     "execution_count": 107,
     "metadata": {},
     "output_type": "execute_result"
    }
   ],
   "source": [
    "df['label'].value_counts()"
   ],
   "metadata": {
    "collapsed": false,
    "pycharm": {
     "name": "#%%\n"
    }
   }
  },
  {
   "cell_type": "code",
   "execution_count": 114,
   "outputs": [],
   "source": [
    "with open(\"latex.txt\", \"w\") as text_file:\n",
    "    text_file.write(df['label'].value_counts().to_latex())"
   ],
   "metadata": {
    "collapsed": false,
    "pycharm": {
     "name": "#%%\n"
    }
   }
  },
  {
   "cell_type": "code",
   "execution_count": 112,
   "outputs": [
    {
     "data": {
      "text/plain": "         Unnamed: 0            ts        id.orig_h    duration  orig_bytes  \\\n0                 0  1.540470e+09    192.168.1.132    0.003497           0   \n1                 1  1.540470e+09    192.168.1.132    0.036724          34   \n2                 2  1.540469e+09    192.168.1.132  384.518261       15072   \n3                 3  1.540470e+09    192.168.1.132    0.270332          48   \n4                 4  1.540470e+09    192.168.1.132    0.111429          48   \n...             ...           ...              ...         ...         ...   \n1446616       99994  1.532526e+09  192.168.100.111    0.000000           0   \n1446617       99995  1.532526e+09  192.168.100.111    0.000000           0   \n1446618       99996  1.532526e+09  192.168.100.111    0.000000           0   \n1446619       99997  1.532526e+09  192.168.100.111    0.000000           0   \n1446620       99998  1.532526e+09  192.168.100.111    0.000000           0   \n\n         resp_bytes  missed_bytes  orig_pkts  orig_ip_bytes  resp_pkts  ...  \\\n0                 0           0.0        5.0          212.0        3.0  ...   \n1               311           0.0        1.0           62.0        1.0  ...   \n2                 0           0.0       48.0        16416.0        0.0  ...   \n3                48           0.0        1.0           76.0        1.0  ...   \n4                48           0.0        1.0           76.0        1.0  ...   \n...             ...           ...        ...            ...        ...  ...   \n1446616           0           0.0        1.0           40.0        0.0  ...   \n1446617           0           0.0        1.0           40.0        0.0  ...   \n1446618           0           0.0        1.0           40.0        0.0  ...   \n1446619           0           0.0        1.0           40.0        0.0  ...   \n1446620           0           0.0        1.0           40.0        0.0  ...   \n\n         conn_state_RSTOS0 conn_state_RSTR  conn_state_RSTRH  conn_state_S0  \\\n0                        0               0                 0              0   \n1                        0               0                 0              0   \n2                        0               0                 0              1   \n3                        0               0                 0              0   \n4                        0               0                 0              0   \n...                    ...             ...               ...            ...   \n1446616                  0               0                 0              1   \n1446617                  0               0                 0              1   \n1446618                  0               0                 0              1   \n1446619                  0               0                 0              1   \n1446620                  0               0                 0              1   \n\n         conn_state_S1  conn_state_S2  conn_state_S3  conn_state_SF  \\\n0                    0              0              0              1   \n1                    0              0              0              1   \n2                    0              0              0              0   \n3                    0              0              0              1   \n4                    0              0              0              1   \n...                ...            ...            ...            ...   \n1446616              0              0              0              0   \n1446617              0              0              0              0   \n1446618              0              0              0              0   \n1446619              0              0              0              0   \n1446620              0              0              0              0   \n\n         conn_state_SH  conn_state_SHR  \n0                    0               0  \n1                    0               0  \n2                    0               0  \n3                    0               0  \n4                    0               0  \n...                ...             ...  \n1446616              0               0  \n1446617              0               0  \n1446618              0               0  \n1446619              0               0  \n1446620              0               0  \n\n[1446621 rows x 28 columns]",
      "text/html": "<div>\n<style scoped>\n    .dataframe tbody tr th:only-of-type {\n        vertical-align: middle;\n    }\n\n    .dataframe tbody tr th {\n        vertical-align: top;\n    }\n\n    .dataframe thead th {\n        text-align: right;\n    }\n</style>\n<table border=\"1\" class=\"dataframe\">\n  <thead>\n    <tr style=\"text-align: right;\">\n      <th></th>\n      <th>Unnamed: 0</th>\n      <th>ts</th>\n      <th>id.orig_h</th>\n      <th>duration</th>\n      <th>orig_bytes</th>\n      <th>resp_bytes</th>\n      <th>missed_bytes</th>\n      <th>orig_pkts</th>\n      <th>orig_ip_bytes</th>\n      <th>resp_pkts</th>\n      <th>...</th>\n      <th>conn_state_RSTOS0</th>\n      <th>conn_state_RSTR</th>\n      <th>conn_state_RSTRH</th>\n      <th>conn_state_S0</th>\n      <th>conn_state_S1</th>\n      <th>conn_state_S2</th>\n      <th>conn_state_S3</th>\n      <th>conn_state_SF</th>\n      <th>conn_state_SH</th>\n      <th>conn_state_SHR</th>\n    </tr>\n  </thead>\n  <tbody>\n    <tr>\n      <th>0</th>\n      <td>0</td>\n      <td>1.540470e+09</td>\n      <td>192.168.1.132</td>\n      <td>0.003497</td>\n      <td>0</td>\n      <td>0</td>\n      <td>0.0</td>\n      <td>5.0</td>\n      <td>212.0</td>\n      <td>3.0</td>\n      <td>...</td>\n      <td>0</td>\n      <td>0</td>\n      <td>0</td>\n      <td>0</td>\n      <td>0</td>\n      <td>0</td>\n      <td>0</td>\n      <td>1</td>\n      <td>0</td>\n      <td>0</td>\n    </tr>\n    <tr>\n      <th>1</th>\n      <td>1</td>\n      <td>1.540470e+09</td>\n      <td>192.168.1.132</td>\n      <td>0.036724</td>\n      <td>34</td>\n      <td>311</td>\n      <td>0.0</td>\n      <td>1.0</td>\n      <td>62.0</td>\n      <td>1.0</td>\n      <td>...</td>\n      <td>0</td>\n      <td>0</td>\n      <td>0</td>\n      <td>0</td>\n      <td>0</td>\n      <td>0</td>\n      <td>0</td>\n      <td>1</td>\n      <td>0</td>\n      <td>0</td>\n    </tr>\n    <tr>\n      <th>2</th>\n      <td>2</td>\n      <td>1.540469e+09</td>\n      <td>192.168.1.132</td>\n      <td>384.518261</td>\n      <td>15072</td>\n      <td>0</td>\n      <td>0.0</td>\n      <td>48.0</td>\n      <td>16416.0</td>\n      <td>0.0</td>\n      <td>...</td>\n      <td>0</td>\n      <td>0</td>\n      <td>0</td>\n      <td>1</td>\n      <td>0</td>\n      <td>0</td>\n      <td>0</td>\n      <td>0</td>\n      <td>0</td>\n      <td>0</td>\n    </tr>\n    <tr>\n      <th>3</th>\n      <td>3</td>\n      <td>1.540470e+09</td>\n      <td>192.168.1.132</td>\n      <td>0.270332</td>\n      <td>48</td>\n      <td>48</td>\n      <td>0.0</td>\n      <td>1.0</td>\n      <td>76.0</td>\n      <td>1.0</td>\n      <td>...</td>\n      <td>0</td>\n      <td>0</td>\n      <td>0</td>\n      <td>0</td>\n      <td>0</td>\n      <td>0</td>\n      <td>0</td>\n      <td>1</td>\n      <td>0</td>\n      <td>0</td>\n    </tr>\n    <tr>\n      <th>4</th>\n      <td>4</td>\n      <td>1.540470e+09</td>\n      <td>192.168.1.132</td>\n      <td>0.111429</td>\n      <td>48</td>\n      <td>48</td>\n      <td>0.0</td>\n      <td>1.0</td>\n      <td>76.0</td>\n      <td>1.0</td>\n      <td>...</td>\n      <td>0</td>\n      <td>0</td>\n      <td>0</td>\n      <td>0</td>\n      <td>0</td>\n      <td>0</td>\n      <td>0</td>\n      <td>1</td>\n      <td>0</td>\n      <td>0</td>\n    </tr>\n    <tr>\n      <th>...</th>\n      <td>...</td>\n      <td>...</td>\n      <td>...</td>\n      <td>...</td>\n      <td>...</td>\n      <td>...</td>\n      <td>...</td>\n      <td>...</td>\n      <td>...</td>\n      <td>...</td>\n      <td>...</td>\n      <td>...</td>\n      <td>...</td>\n      <td>...</td>\n      <td>...</td>\n      <td>...</td>\n      <td>...</td>\n      <td>...</td>\n      <td>...</td>\n      <td>...</td>\n      <td>...</td>\n    </tr>\n    <tr>\n      <th>1446616</th>\n      <td>99994</td>\n      <td>1.532526e+09</td>\n      <td>192.168.100.111</td>\n      <td>0.000000</td>\n      <td>0</td>\n      <td>0</td>\n      <td>0.0</td>\n      <td>1.0</td>\n      <td>40.0</td>\n      <td>0.0</td>\n      <td>...</td>\n      <td>0</td>\n      <td>0</td>\n      <td>0</td>\n      <td>1</td>\n      <td>0</td>\n      <td>0</td>\n      <td>0</td>\n      <td>0</td>\n      <td>0</td>\n      <td>0</td>\n    </tr>\n    <tr>\n      <th>1446617</th>\n      <td>99995</td>\n      <td>1.532526e+09</td>\n      <td>192.168.100.111</td>\n      <td>0.000000</td>\n      <td>0</td>\n      <td>0</td>\n      <td>0.0</td>\n      <td>1.0</td>\n      <td>40.0</td>\n      <td>0.0</td>\n      <td>...</td>\n      <td>0</td>\n      <td>0</td>\n      <td>0</td>\n      <td>1</td>\n      <td>0</td>\n      <td>0</td>\n      <td>0</td>\n      <td>0</td>\n      <td>0</td>\n      <td>0</td>\n    </tr>\n    <tr>\n      <th>1446618</th>\n      <td>99996</td>\n      <td>1.532526e+09</td>\n      <td>192.168.100.111</td>\n      <td>0.000000</td>\n      <td>0</td>\n      <td>0</td>\n      <td>0.0</td>\n      <td>1.0</td>\n      <td>40.0</td>\n      <td>0.0</td>\n      <td>...</td>\n      <td>0</td>\n      <td>0</td>\n      <td>0</td>\n      <td>1</td>\n      <td>0</td>\n      <td>0</td>\n      <td>0</td>\n      <td>0</td>\n      <td>0</td>\n      <td>0</td>\n    </tr>\n    <tr>\n      <th>1446619</th>\n      <td>99997</td>\n      <td>1.532526e+09</td>\n      <td>192.168.100.111</td>\n      <td>0.000000</td>\n      <td>0</td>\n      <td>0</td>\n      <td>0.0</td>\n      <td>1.0</td>\n      <td>40.0</td>\n      <td>0.0</td>\n      <td>...</td>\n      <td>0</td>\n      <td>0</td>\n      <td>0</td>\n      <td>1</td>\n      <td>0</td>\n      <td>0</td>\n      <td>0</td>\n      <td>0</td>\n      <td>0</td>\n      <td>0</td>\n    </tr>\n    <tr>\n      <th>1446620</th>\n      <td>99998</td>\n      <td>1.532526e+09</td>\n      <td>192.168.100.111</td>\n      <td>0.000000</td>\n      <td>0</td>\n      <td>0</td>\n      <td>0.0</td>\n      <td>1.0</td>\n      <td>40.0</td>\n      <td>0.0</td>\n      <td>...</td>\n      <td>0</td>\n      <td>0</td>\n      <td>0</td>\n      <td>1</td>\n      <td>0</td>\n      <td>0</td>\n      <td>0</td>\n      <td>0</td>\n      <td>0</td>\n      <td>0</td>\n    </tr>\n  </tbody>\n</table>\n<p>1446621 rows × 28 columns</p>\n</div>"
     },
     "execution_count": 112,
     "metadata": {},
     "output_type": "execute_result"
    }
   ],
   "source": [
    "df"
   ],
   "metadata": {
    "collapsed": false,
    "pycharm": {
     "name": "#%%\n"
    }
   }
  },
  {
   "cell_type": "code",
   "execution_count": 4,
   "outputs": [],
   "source": [
    "def is_sorted(a):\n",
    "    for i in range(0, len(a)-1):\n",
    "        if a[i+1]<a[i]:\n",
    "            return False, i\n",
    "    return True"
   ],
   "metadata": {
    "collapsed": false,
    "pycharm": {
     "name": "#%%\n"
    }
   }
  },
  {
   "cell_type": "code",
   "execution_count": 35,
   "outputs": [],
   "source": [
    "df_sorted = df.sort_values('ts')"
   ],
   "metadata": {
    "collapsed": false,
    "pycharm": {
     "name": "#%%\n"
    }
   }
  },
  {
   "cell_type": "code",
   "execution_count": 36,
   "outputs": [
    {
     "data": {
      "text/plain": "True"
     },
     "execution_count": 36,
     "metadata": {},
     "output_type": "execute_result"
    }
   ],
   "source": [
    "is_sorted(df_sorted['ts'].to_numpy())"
   ],
   "metadata": {
    "collapsed": false,
    "pycharm": {
     "name": "#%%\n"
    }
   }
  },
  {
   "cell_type": "code",
   "execution_count": 37,
   "outputs": [],
   "source": [
    "df_sorted = df_sorted.drop(columns=['Unnamed: 0', 'id.orig_h', 'ts'])"
   ],
   "metadata": {
    "collapsed": false,
    "pycharm": {
     "name": "#%%\n"
    }
   }
  },
  {
   "cell_type": "code",
   "execution_count": 38,
   "outputs": [],
   "source": [
    "df_sorted.loc[(df_sorted.label == '-   Benign   -'), 'label'] = 'Benign'"
   ],
   "metadata": {
    "collapsed": false,
    "pycharm": {
     "name": "#%%\n"
    }
   }
  },
  {
   "cell_type": "code",
   "execution_count": 39,
   "outputs": [
    {
     "data": {
      "text/plain": "         duration  orig_bytes  resp_bytes  missed_bytes  orig_pkts  \\\n2034     0.000000           0           0           0.0        1.0   \n2038     0.000000           0           0           0.0        1.0   \n1947     2.998796           0           0           0.0        3.0   \n1948     0.000000           0           0           0.0        1.0   \n1949     0.000000           0           0           0.0        1.0   \n...           ...         ...         ...           ...        ...   \n1236214  0.000000           0           0           0.0        0.0   \n1236216  0.000000           0           0           0.0        0.0   \n1236218  0.000000           0           0           0.0        0.0   \n1236221  0.000000           0           0           0.0        0.0   \n1236222  0.000000           0           0           0.0        0.0   \n\n         orig_ip_bytes  resp_pkts  resp_ip_bytes                      label  \\\n2034              40.0        0.0            0.0                     Benign   \n2038              40.0        0.0            0.0                     Benign   \n1947             180.0        0.0            0.0  PartOfAHorizontalPortScan   \n1948              60.0        0.0            0.0  PartOfAHorizontalPortScan   \n1949              60.0        0.0            0.0  PartOfAHorizontalPortScan   \n...                ...        ...            ...                        ...   \n1236214            0.0        0.0            0.0                       DDoS   \n1236216            0.0        0.0            0.0                       DDoS   \n1236218            0.0        0.0            0.0                       DDoS   \n1236221            0.0        0.0            0.0                       DDoS   \n1236222            0.0        0.0            0.0                       DDoS   \n\n         proto_icmp  ...  conn_state_RSTOS0  conn_state_RSTR  \\\n2034              0  ...                  0                0   \n2038              0  ...                  0                0   \n1947              0  ...                  0                0   \n1948              0  ...                  0                0   \n1949              0  ...                  0                0   \n...             ...  ...                ...              ...   \n1236214           0  ...                  0                0   \n1236216           0  ...                  0                0   \n1236218           0  ...                  0                0   \n1236221           0  ...                  0                0   \n1236222           0  ...                  0                0   \n\n         conn_state_RSTRH  conn_state_S0  conn_state_S1  conn_state_S2  \\\n2034                    0              1              0              0   \n2038                    0              1              0              0   \n1947                    0              1              0              0   \n1948                    0              1              0              0   \n1949                    0              1              0              0   \n...                   ...            ...            ...            ...   \n1236214                 0              0              0              0   \n1236216                 0              0              0              0   \n1236218                 0              0              0              0   \n1236221                 0              0              0              0   \n1236222                 0              0              0              0   \n\n         conn_state_S3  conn_state_SF  conn_state_SH  conn_state_SHR  \n2034                 0              0              0               0  \n2038                 0              0              0               0  \n1947                 0              0              0               0  \n1948                 0              0              0               0  \n1949                 0              0              0               0  \n...                ...            ...            ...             ...  \n1236214              0              0              0               0  \n1236216              0              0              0               0  \n1236218              0              0              0               0  \n1236221              0              0              0               0  \n1236222              0              0              0               0  \n\n[1446621 rows x 25 columns]",
      "text/html": "<div>\n<style scoped>\n    .dataframe tbody tr th:only-of-type {\n        vertical-align: middle;\n    }\n\n    .dataframe tbody tr th {\n        vertical-align: top;\n    }\n\n    .dataframe thead th {\n        text-align: right;\n    }\n</style>\n<table border=\"1\" class=\"dataframe\">\n  <thead>\n    <tr style=\"text-align: right;\">\n      <th></th>\n      <th>duration</th>\n      <th>orig_bytes</th>\n      <th>resp_bytes</th>\n      <th>missed_bytes</th>\n      <th>orig_pkts</th>\n      <th>orig_ip_bytes</th>\n      <th>resp_pkts</th>\n      <th>resp_ip_bytes</th>\n      <th>label</th>\n      <th>proto_icmp</th>\n      <th>...</th>\n      <th>conn_state_RSTOS0</th>\n      <th>conn_state_RSTR</th>\n      <th>conn_state_RSTRH</th>\n      <th>conn_state_S0</th>\n      <th>conn_state_S1</th>\n      <th>conn_state_S2</th>\n      <th>conn_state_S3</th>\n      <th>conn_state_SF</th>\n      <th>conn_state_SH</th>\n      <th>conn_state_SHR</th>\n    </tr>\n  </thead>\n  <tbody>\n    <tr>\n      <th>2034</th>\n      <td>0.000000</td>\n      <td>0</td>\n      <td>0</td>\n      <td>0.0</td>\n      <td>1.0</td>\n      <td>40.0</td>\n      <td>0.0</td>\n      <td>0.0</td>\n      <td>Benign</td>\n      <td>0</td>\n      <td>...</td>\n      <td>0</td>\n      <td>0</td>\n      <td>0</td>\n      <td>1</td>\n      <td>0</td>\n      <td>0</td>\n      <td>0</td>\n      <td>0</td>\n      <td>0</td>\n      <td>0</td>\n    </tr>\n    <tr>\n      <th>2038</th>\n      <td>0.000000</td>\n      <td>0</td>\n      <td>0</td>\n      <td>0.0</td>\n      <td>1.0</td>\n      <td>40.0</td>\n      <td>0.0</td>\n      <td>0.0</td>\n      <td>Benign</td>\n      <td>0</td>\n      <td>...</td>\n      <td>0</td>\n      <td>0</td>\n      <td>0</td>\n      <td>1</td>\n      <td>0</td>\n      <td>0</td>\n      <td>0</td>\n      <td>0</td>\n      <td>0</td>\n      <td>0</td>\n    </tr>\n    <tr>\n      <th>1947</th>\n      <td>2.998796</td>\n      <td>0</td>\n      <td>0</td>\n      <td>0.0</td>\n      <td>3.0</td>\n      <td>180.0</td>\n      <td>0.0</td>\n      <td>0.0</td>\n      <td>PartOfAHorizontalPortScan</td>\n      <td>0</td>\n      <td>...</td>\n      <td>0</td>\n      <td>0</td>\n      <td>0</td>\n      <td>1</td>\n      <td>0</td>\n      <td>0</td>\n      <td>0</td>\n      <td>0</td>\n      <td>0</td>\n      <td>0</td>\n    </tr>\n    <tr>\n      <th>1948</th>\n      <td>0.000000</td>\n      <td>0</td>\n      <td>0</td>\n      <td>0.0</td>\n      <td>1.0</td>\n      <td>60.0</td>\n      <td>0.0</td>\n      <td>0.0</td>\n      <td>PartOfAHorizontalPortScan</td>\n      <td>0</td>\n      <td>...</td>\n      <td>0</td>\n      <td>0</td>\n      <td>0</td>\n      <td>1</td>\n      <td>0</td>\n      <td>0</td>\n      <td>0</td>\n      <td>0</td>\n      <td>0</td>\n      <td>0</td>\n    </tr>\n    <tr>\n      <th>1949</th>\n      <td>0.000000</td>\n      <td>0</td>\n      <td>0</td>\n      <td>0.0</td>\n      <td>1.0</td>\n      <td>60.0</td>\n      <td>0.0</td>\n      <td>0.0</td>\n      <td>PartOfAHorizontalPortScan</td>\n      <td>0</td>\n      <td>...</td>\n      <td>0</td>\n      <td>0</td>\n      <td>0</td>\n      <td>1</td>\n      <td>0</td>\n      <td>0</td>\n      <td>0</td>\n      <td>0</td>\n      <td>0</td>\n      <td>0</td>\n    </tr>\n    <tr>\n      <th>...</th>\n      <td>...</td>\n      <td>...</td>\n      <td>...</td>\n      <td>...</td>\n      <td>...</td>\n      <td>...</td>\n      <td>...</td>\n      <td>...</td>\n      <td>...</td>\n      <td>...</td>\n      <td>...</td>\n      <td>...</td>\n      <td>...</td>\n      <td>...</td>\n      <td>...</td>\n      <td>...</td>\n      <td>...</td>\n      <td>...</td>\n      <td>...</td>\n      <td>...</td>\n      <td>...</td>\n    </tr>\n    <tr>\n      <th>1236214</th>\n      <td>0.000000</td>\n      <td>0</td>\n      <td>0</td>\n      <td>0.0</td>\n      <td>0.0</td>\n      <td>0.0</td>\n      <td>0.0</td>\n      <td>0.0</td>\n      <td>DDoS</td>\n      <td>0</td>\n      <td>...</td>\n      <td>0</td>\n      <td>0</td>\n      <td>0</td>\n      <td>0</td>\n      <td>0</td>\n      <td>0</td>\n      <td>0</td>\n      <td>0</td>\n      <td>0</td>\n      <td>0</td>\n    </tr>\n    <tr>\n      <th>1236216</th>\n      <td>0.000000</td>\n      <td>0</td>\n      <td>0</td>\n      <td>0.0</td>\n      <td>0.0</td>\n      <td>0.0</td>\n      <td>0.0</td>\n      <td>0.0</td>\n      <td>DDoS</td>\n      <td>0</td>\n      <td>...</td>\n      <td>0</td>\n      <td>0</td>\n      <td>0</td>\n      <td>0</td>\n      <td>0</td>\n      <td>0</td>\n      <td>0</td>\n      <td>0</td>\n      <td>0</td>\n      <td>0</td>\n    </tr>\n    <tr>\n      <th>1236218</th>\n      <td>0.000000</td>\n      <td>0</td>\n      <td>0</td>\n      <td>0.0</td>\n      <td>0.0</td>\n      <td>0.0</td>\n      <td>0.0</td>\n      <td>0.0</td>\n      <td>DDoS</td>\n      <td>0</td>\n      <td>...</td>\n      <td>0</td>\n      <td>0</td>\n      <td>0</td>\n      <td>0</td>\n      <td>0</td>\n      <td>0</td>\n      <td>0</td>\n      <td>0</td>\n      <td>0</td>\n      <td>0</td>\n    </tr>\n    <tr>\n      <th>1236221</th>\n      <td>0.000000</td>\n      <td>0</td>\n      <td>0</td>\n      <td>0.0</td>\n      <td>0.0</td>\n      <td>0.0</td>\n      <td>0.0</td>\n      <td>0.0</td>\n      <td>DDoS</td>\n      <td>0</td>\n      <td>...</td>\n      <td>0</td>\n      <td>0</td>\n      <td>0</td>\n      <td>0</td>\n      <td>0</td>\n      <td>0</td>\n      <td>0</td>\n      <td>0</td>\n      <td>0</td>\n      <td>0</td>\n    </tr>\n    <tr>\n      <th>1236222</th>\n      <td>0.000000</td>\n      <td>0</td>\n      <td>0</td>\n      <td>0.0</td>\n      <td>0.0</td>\n      <td>0.0</td>\n      <td>0.0</td>\n      <td>0.0</td>\n      <td>DDoS</td>\n      <td>0</td>\n      <td>...</td>\n      <td>0</td>\n      <td>0</td>\n      <td>0</td>\n      <td>0</td>\n      <td>0</td>\n      <td>0</td>\n      <td>0</td>\n      <td>0</td>\n      <td>0</td>\n      <td>0</td>\n    </tr>\n  </tbody>\n</table>\n<p>1446621 rows × 25 columns</p>\n</div>"
     },
     "execution_count": 39,
     "metadata": {},
     "output_type": "execute_result"
    }
   ],
   "source": [
    "df_sorted"
   ],
   "metadata": {
    "collapsed": false,
    "pycharm": {
     "name": "#%%\n"
    }
   }
  },
  {
   "cell_type": "code",
   "execution_count": 40,
   "outputs": [],
   "source": [
    "# to_drop = df_sorted[df_sorted['label'] == \"C&C\" or\n",
    "#     df_sorted['label'] == \"Attack\" or\n",
    "#     df_sorted['label'] == \"C&C-HeartBeat\" or\n",
    "#     df_sorted['label'] == \"C&C-FileDownload\" or\n",
    "#     df_sorted['label'] == \"C&C-Torii\" or\n",
    "#     df_sorted['label'] == \"FileDownload\" or\n",
    "#     df_sorted['label'] == \"C&C-HeartBeat-FileDownload\" or\n",
    "#     df_sorted['label'] == \"C&C-Mirai\"]\n",
    "\n",
    "def drop_columns(df, columns):\n",
    "    temp = df.copy()\n",
    "    for column in columns:\n",
    "        temp = temp[temp['label'] != column]\n",
    "    return temp"
   ],
   "metadata": {
    "collapsed": false,
    "pycharm": {
     "name": "#%%\n"
    }
   }
  },
  {
   "cell_type": "code",
   "execution_count": 41,
   "outputs": [],
   "source": [
    "columns_to_drop = [\"C&C\",\n",
    "                    \"Attack\",\n",
    "                    \"C&C-HeartBeat\",\n",
    "                    \"C&C-FileDownload\",\n",
    "                    \"C&C-Torii\",\n",
    "                    \"FileDownload\",\n",
    "                    \"C&C-HeartBeat-FileDownload\",\n",
    "                    \"C&C-Mirai\"]\n",
    "\n",
    "df_sorted = drop_columns(df_sorted, columns_to_drop)"
   ],
   "metadata": {
    "collapsed": false,
    "pycharm": {
     "name": "#%%\n"
    }
   }
  },
  {
   "cell_type": "code",
   "execution_count": 42,
   "outputs": [
    {
     "data": {
      "text/plain": "PartOfAHorizontalPortScan    825939\nOkiru                        262690\nBenign                       199756\nDDoS                         138777\nName: label, dtype: int64"
     },
     "execution_count": 42,
     "metadata": {},
     "output_type": "execute_result"
    }
   ],
   "source": [
    "df_sorted['label'].value_counts()"
   ],
   "metadata": {
    "collapsed": false,
    "pycharm": {
     "name": "#%%\n"
    }
   }
  },
  {
   "cell_type": "code",
   "execution_count": 80,
   "outputs": [
    {
     "data": {
      "text/plain": "Index(['label_Benign', 'label_DDoS', 'label_Okiru',\n       'label_PartOfAHorizontalPortScan'],\n      dtype='object')"
     },
     "execution_count": 80,
     "metadata": {},
     "output_type": "execute_result"
    }
   ],
   "source": [
    "labels = pd.get_dummies(df_sorted.loc[:, df_sorted.columns == 'label'], columns=['label']).columns\n",
    "labels"
   ],
   "metadata": {
    "collapsed": false,
    "pycharm": {
     "name": "#%%\n"
    }
   }
  },
  {
   "cell_type": "code",
   "execution_count": 44,
   "outputs": [],
   "source": [
    "def split_data(df, train_amount):\n",
    "    x = df.loc[:, df.columns != 'label'].to_numpy()\n",
    "    df_y = df.loc[:, df.columns == 'label']\n",
    "    df_y = pd.get_dummies(df_y, columns=['label'])\n",
    "    y = df_y.to_numpy()\n",
    "\n",
    "    split_index = int(len(x)*train_amount)\n",
    "\n",
    "    x_train, x_test = x[0:split_index, :], x[split_index:, :]\n",
    "    y_train, y_test = y[0:split_index:, :], y[split_index:, :]\n",
    "\n",
    "    return x_train, x_test, y_train, y_test"
   ],
   "metadata": {
    "collapsed": false,
    "pycharm": {
     "name": "#%%\n"
    }
   }
  },
  {
   "cell_type": "code",
   "execution_count": 100,
   "outputs": [],
   "source": [
    "x_train, x_test, y_train, y_test = split_data(df_sorted, .7)"
   ],
   "metadata": {
    "collapsed": false,
    "pycharm": {
     "name": "#%%\n"
    }
   }
  },
  {
   "cell_type": "code",
   "execution_count": 101,
   "outputs": [],
   "source": [
    "x_train = x_train.reshape((x_train.shape[0], 1, x_train.shape[1]))\n",
    "x_test = x_test.reshape((x_test.shape[0], 1, x_test.shape[1]))"
   ],
   "metadata": {
    "collapsed": false,
    "pycharm": {
     "name": "#%%\n"
    }
   }
  },
  {
   "cell_type": "code",
   "execution_count": 102,
   "outputs": [
    {
     "data": {
      "text/plain": "((999013, 1, 24), (999013, 4))"
     },
     "execution_count": 102,
     "metadata": {},
     "output_type": "execute_result"
    }
   ],
   "source": [
    "x_train.shape, y_train.shape"
   ],
   "metadata": {
    "collapsed": false,
    "pycharm": {
     "name": "#%%\n"
    }
   }
  },
  {
   "cell_type": "code",
   "execution_count": 105,
   "outputs": [],
   "source": [
    "model = Sequential()\n",
    "model.add(GRU(128, input_shape=(x_train.shape[1], x_train.shape[2]), return_sequences=True))\n",
    "model.add(GRU(128, return_sequences=True))\n",
    "model.add(GRU(128))\n",
    "model.add(Dense(y_train.shape[1], activation='sigmoid'))\n",
    "model.compile(loss='categorical_crossentropy', optimizer='adam', metrics=['accuracy'])"
   ],
   "metadata": {
    "collapsed": false,
    "pycharm": {
     "name": "#%%\n"
    }
   }
  },
  {
   "cell_type": "code",
   "execution_count": 106,
   "outputs": [
    {
     "name": "stdout",
     "output_type": "stream",
     "text": [
      "Epoch 1/10\n",
      "13876/13876 [==============================] - 37s 2ms/step - loss: 0.2909 - accuracy: 0.8801 - val_loss: 0.5272 - val_accuracy: 0.9710\n",
      "Epoch 2/10\n",
      "13876/13876 [==============================] - 34s 2ms/step - loss: 0.2953 - accuracy: 0.8750 - val_loss: 0.5605 - val_accuracy: 0.9715\n",
      "Epoch 3/10\n",
      "13876/13876 [==============================] - 35s 3ms/step - loss: 0.2997 - accuracy: 0.8757 - val_loss: 0.5290 - val_accuracy: 0.9715\n",
      "Epoch 4/10\n",
      "13876/13876 [==============================] - 33s 2ms/step - loss: 0.3011 - accuracy: 0.8769 - val_loss: 0.5721 - val_accuracy: 0.9715\n",
      "Epoch 5/10\n",
      "13876/13876 [==============================] - 33s 2ms/step - loss: 0.2926 - accuracy: 0.8800 - val_loss: 0.5128 - val_accuracy: 0.9715\n",
      "Epoch 6/10\n",
      "13876/13876 [==============================] - 33s 2ms/step - loss: 0.2904 - accuracy: 0.8810 - val_loss: 0.5229 - val_accuracy: 0.9715\n",
      "Epoch 7/10\n",
      "13876/13876 [==============================] - 32s 2ms/step - loss: 0.2948 - accuracy: 0.8803 - val_loss: 0.5584 - val_accuracy: 0.9715\n",
      "Epoch 8/10\n",
      "13876/13876 [==============================] - 34s 2ms/step - loss: 0.2994 - accuracy: 0.8796 - val_loss: 0.5672 - val_accuracy: 0.9715\n",
      "Epoch 9/10\n",
      "13876/13876 [==============================] - 34s 2ms/step - loss: 0.2958 - accuracy: 0.8786 - val_loss: 0.5821 - val_accuracy: 0.9715\n",
      "Epoch 10/10\n",
      "13876/13876 [==============================] - 32s 2ms/step - loss: 0.2906 - accuracy: 0.8803 - val_loss: 0.5594 - val_accuracy: 0.9727\n"
     ]
    }
   ],
   "source": [
    "trained_model = model.fit(x_train, y_train, epochs=10, batch_size=72, validation_data=(x_test, y_test), shuffle=False)"
   ],
   "metadata": {
    "collapsed": false,
    "pycharm": {
     "name": "#%%\n"
    }
   }
  },
  {
   "cell_type": "code",
   "execution_count": 50,
   "outputs": [
    {
     "data": {
      "text/plain": "<Figure size 432x288 with 1 Axes>",
      "image/png": "[encoded data removed]"
     },
     "metadata": {
      "needs_background": "light"
     },
     "output_type": "display_data"
    }
   ],
   "source": [
    "plt.plot(trained_model.history['loss'], label='GRU train', color='brown')\n",
    "plt.plot(trained_model.history['val_loss'], label='GRU test', color='blue')\n",
    "plt.legend()\n",
    "plt.show()"
   ],
   "metadata": {
    "collapsed": false,
    "pycharm": {
     "name": "#%%\n"
    }
   }
  },
  {
   "cell_type": "code",
   "execution_count": 56,
   "outputs": [],
   "source": [
    "preds = model.predict(x_test)"
   ],
   "metadata": {
    "collapsed": false,
    "pycharm": {
     "name": "#%%\n"
    }
   }
  },
  {
   "cell_type": "code",
   "execution_count": 99,
   "outputs": [
    {
     "data": {
      "text/plain": "<AxesSubplot:>"
     },
     "execution_count": 99,
     "metadata": {},
     "output_type": "execute_result"
    },
    {
     "data": {
      "text/plain": "<Figure size 432x288 with 2 Axes>",
      "image/png": "[encoded data removed]"
     },
     "metadata": {
      "needs_background": "light"
     },
     "output_type": "display_data"
    }
   ],
   "source": [
    "cm = confusion_matrix(np.argmax(y_test, axis=1), np.argmax(preds, axis=1))\n",
    "total = np.sum(cm)\n",
    "indices, counts = value_counts = np.unique(np.argmax(y_test, axis=1), return_counts=True)\n",
    "\n",
    "percentages = np.zeros(cm.shape)\n",
    "\n",
    "for iy, ix in np.ndindex(cm.shape):\n",
    "    percentages[iy, ix] = cm[iy, ix]/counts[ix]\n",
    "\n",
    "sns.heatmap(percentages.round(3), annot=True, xticklabels=labels[indices], yticklabels=labels[indices], cmap=\"coolwarm\", linewidths=.5)\n",
    "# counts"
   ],
   "metadata": {
    "collapsed": false,
    "pycharm": {
     "name": "#%%\n"
    }
   }
  },
  {
   "cell_type": "code",
   "execution_count": 94,
   "outputs": [
    {
     "data": {
      "text/plain": "array([[   501,     32,    145],\n       [     5,  99403,     15],\n       [     3,      0, 185329]], dtype=int64)"
     },
     "execution_count": 94,
     "metadata": {},
     "output_type": "execute_result"
    }
   ],
   "source": [
    "cm"
   ],
   "metadata": {
    "collapsed": false,
    "pycharm": {
     "name": "#%%\n"
    }
   }
  },
  {
   "cell_type": "code",
   "execution_count": 75,
   "outputs": [
    {
     "data": {
      "text/plain": "(array([0, 1], dtype=uint8), array([856299, 285433], dtype=int64))"
     },
     "execution_count": 75,
     "metadata": {},
     "output_type": "execute_result"
    }
   ],
   "source": [
    "value_counts = np.unique(y_test, return_counts=True)\n",
    "value_counts"
   ],
   "metadata": {
    "collapsed": false,
    "pycharm": {
     "name": "#%%\n"
    }
   }
  },
  {
   "cell_type": "code",
   "execution_count": 74,
   "outputs": [
    {
     "data": {
      "text/plain": "array([   678,  99423, 185332], dtype=int64)"
     },
     "execution_count": 74,
     "metadata": {},
     "output_type": "execute_result"
    }
   ],
   "source": [
    "a = np.argmax(y_test, axis=1)\n",
    "_, b = np.unique(a, return_counts=True)\n",
    "\n",
    "b"
   ],
   "metadata": {
    "collapsed": false,
    "pycharm": {
     "name": "#%%\n"
    }
   }
  },
  {
   "cell_type": "markdown",
   "source": [],
   "metadata": {
    "collapsed": false,
    "pycharm": {
     "name": "#%% md\n"
    }
   }
  },
  {
   "cell_type": "code",
   "execution_count": 109,
   "outputs": [
    {
     "name": "stdout",
     "output_type": "stream",
     "text": [
      "              precision    recall  f1-score   support\n",
      "\n",
      "           0       0.15      0.99      0.26      1369\n",
      "           1       1.00      1.00      1.00     99435\n",
      "           2       0.00      0.00      0.00         0\n",
      "           3       1.00      0.96      0.98    327345\n",
      "\n",
      "    accuracy                           0.97    428149\n",
      "   macro avg       0.54      0.74      0.56    428149\n",
      "weighted avg       1.00      0.97      0.98    428149\n",
      "\n"
     ]
    },
    {
     "name": "stderr",
     "output_type": "stream",
     "text": [
      "C:\\Users\\koend\\anaconda3\\lib\\site-packages\\sklearn\\metrics\\_classification.py:1248: UndefinedMetricWarning: Recall and F-score are ill-defined and being set to 0.0 in labels with no true samples. Use `zero_division` parameter to control this behavior.\n",
      "  _warn_prf(average, modifier, msg_start, len(result))\n",
      "C:\\Users\\koend\\anaconda3\\lib\\site-packages\\sklearn\\metrics\\_classification.py:1248: UndefinedMetricWarning: Recall and F-score are ill-defined and being set to 0.0 in labels with no true samples. Use `zero_division` parameter to control this behavior.\n",
      "  _warn_prf(average, modifier, msg_start, len(result))\n",
      "C:\\Users\\koend\\anaconda3\\lib\\site-packages\\sklearn\\metrics\\_classification.py:1248: UndefinedMetricWarning: Recall and F-score are ill-defined and being set to 0.0 in labels with no true samples. Use `zero_division` parameter to control this behavior.\n",
      "  _warn_prf(average, modifier, msg_start, len(result))\n"
     ]
    }
   ],
   "source": [
    "a = np.argmax(model.predict(x_test), axis=1)\n",
    "b = np.argmax(y_test, axis=1)\n",
    "print(classification_report(a, b))"
   ],
   "metadata": {
    "collapsed": false,
    "pycharm": {
     "name": "#%%\n"
    }
   }
  },
  {
   "cell_type": "code",
   "execution_count": 156,
   "outputs": [
    {
     "data": {
      "text/plain": "5    39998\ndtype: int64"
     },
     "execution_count": 156,
     "metadata": {},
     "output_type": "execute_result"
    }
   ],
   "source": [
    "pd.DataFrame(np.argmax(model.predict(x_test), axis=1)).value_counts()"
   ],
   "metadata": {
    "collapsed": false,
    "pycharm": {
     "name": "#%%\n"
    }
   }
  },
  {
   "cell_type": "code",
   "execution_count": 228,
   "outputs": [
    {
     "data": {
      "text/plain": "11    189082\n8      99423\n1        679\n4         93\n2         37\n3         10\n6          1\ndtype: int64"
     },
     "execution_count": 228,
     "metadata": {},
     "output_type": "execute_result"
    }
   ],
   "source": [
    "pd.DataFrame(np.argmax(y_test, axis=1)).value_counts()"
   ],
   "metadata": {
    "collapsed": false,
    "pycharm": {
     "name": "#%%\n"
    }
   }
  },
  {
   "cell_type": "markdown",
   "source": [],
   "metadata": {
    "collapsed": false,
    "pycharm": {
     "name": "#%% md\n"
    }
   }
  }
 ],
 "metadata": {
  "kernelspec": {
   "display_name": "Python 3",
   "language": "python",
   "name": "python3"
  },
  "language_info": {
   "codemirror_mode": {
    "name": "ipython",
    "version": 2
   },
   "file_extension": ".py",
   "mimetype": "text/x-python",
   "name": "python",
   "nbconvert_exporter": "python",
   "pygments_lexer": "ipython2",
   "version": "2.7.6"
  }
 },
 "nbformat": 4,
 "nbformat_minor": 0
}
