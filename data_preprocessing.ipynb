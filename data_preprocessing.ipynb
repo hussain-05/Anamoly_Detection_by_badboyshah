{
 "cells": [
  {
   "cell_type": "code",
   "execution_count": 4,
   "metadata": {},
   "outputs": [],
   "source": [
    "import pandas as pd\n",
    "import os"
   ]
  },
  {
   "cell_type": "code",
   "execution_count": 7,
   "metadata": {
    "scrolled": true
   },
   "outputs": [],
   "source": [
    "rootdir = \"C:\\dev\\datasets\\opt\\Malware-Project\\BigDataset\\IoTScenarios\"\n",
    "\n",
    "frames = []\n",
    "\n",
    "for subdir, dirs, files in os.walk(rootdir):\n",
    "    if subdir.endswith(\"bro\") :\n",
    "        df = pd.read_table(filepath_or_buffer = subdir + \"/conn.log.labeled\", skiprows=10, nrows=100000)\n",
    "        columns = ['ts',\n",
    "              'uid',\n",
    "              'id.orig_h',\n",
    "              'id.orig_p',\n",
    "              'id.resp_h',\n",
    "              'id.resp_p',\n",
    "              'proto',\n",
    "              'service',\n",
    "              'duration',\n",
    "              'orig_bytes',\n",
    "              'resp_bytes',\n",
    "              'conn_state',\n",
    "              'local_orig',\n",
    "              'local_resp',\n",
    "              'missed_bytes',\n",
    "              'history',\n",
    "              'orig_pkts',\n",
    "              'orig_ip_bytes',\n",
    "              'resp_pkts',\n",
    "              'resp_ip_bytes',\n",
    "              'label']\n",
    "        df.columns = columns\n",
    "        df.drop(df.tail(1).index, inplace=True)\n",
    "        frames.append(df)"
   ]
  },
  {
   "cell_type": "code",
   "execution_count": 8,
   "metadata": {},
   "outputs": [],
   "source": [
    "df_c = pd.concat(frames)"
   ]
  },
  {
   "cell_type": "code",
   "execution_count": 9,
   "metadata": {},
   "outputs": [
    {
     "data": {
      "text/plain": "(1446621, 21)"
     },
     "execution_count": 9,
     "metadata": {},
     "output_type": "execute_result"
    }
   ],
   "source": [
    "df_c.shape"
   ]
  },
  {
   "cell_type": "code",
   "execution_count": 10,
   "metadata": {},
   "outputs": [],
   "source": [
    "df_c.loc[(df_c.label == '-   Malicious   PartOfAHorizontalPortScan'), 'label'] = 'PartOfAHorizontalPortScan'\n",
    "df_c.loc[(df_c.label == '(empty)   Malicious   PartOfAHorizontalPortScan'), 'label'] = 'PartOfAHorizontalPortScan'\n",
    "df_c.loc[(df_c.label == '-   Malicious   Okiru'), 'label'] = 'Okiru'\n",
    "df_c.loc[(df_c.label == '(empty)   Malicious   Okiru'), 'label'] = 'Okiru'\n",
    "df_c.loc[(df_c.label == '-   benign   -'), 'label'] = 'Benign'\n",
    "df_c.loc[(df_c.label == '(empty)   Benign   -'), 'label'] = 'Benign'\n",
    "df_c.loc[(df_c.label == '-   Malicious   DDoS'), 'label'] = 'DDoS'\n",
    "df_c.loc[(df_c.label == '-   Malicious   C&C'), 'label'] = 'C&C'\n",
    "df_c.loc[(df_c.label == '(empty)   Malicious   C&C'), 'label'] = 'C&C'\n",
    "df_c.loc[(df_c.label == '-   Malicious   Attack'), 'label'] = 'Attack'\n",
    "df_c.loc[(df_c.label == '(empty)   Malicious   Attack'), 'label'] = 'Attack'\n",
    "df_c.loc[(df_c.label == '-   Malicious   C&C-HeartBeat'), 'label'] = 'C&C-HeartBeat'\n",
    "df_c.loc[(df_c.label == '(empty)   Malicious   C&C-HeartBeat'), 'label'] = 'C&C-HeartBeat'\n",
    "df_c.loc[(df_c.label == '-   Malicious   C&C-FileDownload'), 'label'] = 'C&C-FileDownload'\n",
    "df_c.loc[(df_c.label == '-   Malicious   C&C-Torii'), 'label'] = 'C&C-Torii'\n",
    "df_c.loc[(df_c.label == '-   Malicious   C&C-HeartBeat-FileDownload'), 'label'] = 'C&C-HeartBeat-FileDownload'\n",
    "df_c.loc[(df_c.label == '-   Malicious   FileDownload'), 'label'] = 'FileDownload'\n",
    "df_c.loc[(df_c.label == '-   Malicious   C&C-Mirai'), 'label'] = 'C&C-Mirai'\n",
    "df_c.loc[(df_c.label == '-   Malicious   Okiru-Attack'), 'label'] = 'Okiru-Attack'"
   ]
  },
  {
   "cell_type": "code",
   "execution_count": 11,
   "metadata": {
    "scrolled": true
   },
   "outputs": [
    {
     "data": {
      "text/plain": "192.168.1.197      204393\n192.168.1.198      199987\n192.168.100.111    199935\n192.168.1.195      123106\n192.168.100.103    100647\n                    ...  \n87.140.41.9             1\n221.135.134.4           1\n103.5.159.28            1\n69.108.2.131            1\n200.170.196.189         1\nName: id.orig_h, Length: 3296, dtype: int64"
     },
     "execution_count": 11,
     "metadata": {},
     "output_type": "execute_result"
    }
   ],
   "source": [
    "df_c['id.orig_h'].value_counts()"
   ]
  },
  {
   "cell_type": "code",
   "execution_count": 12,
   "metadata": {},
   "outputs": [],
   "source": [
    "pd.options.display.max_rows = 300\n",
    "pd.options.display.max_columns = 300"
   ]
  },
  {
   "cell_type": "code",
   "execution_count": 13,
   "metadata": {},
   "outputs": [],
   "source": [
    "df_c = pd.get_dummies(df_c, columns=['proto'])\n",
    "df_c = pd.get_dummies(df_c, columns=['conn_state'])"
   ]
  },
  {
   "cell_type": "code",
   "execution_count": 17,
   "metadata": {},
   "outputs": [],
   "source": [
    "df_c.fillna(-1,inplace=True)"
   ]
  },
  {
   "cell_type": "code",
   "execution_count": 15,
   "metadata": {},
   "outputs": [],
   "source": [
    "df_c['duration'] = df_c['duration'].str.replace('-','0')\n",
    "df_c['orig_bytes'] = df_c['orig_bytes'].str.replace('-','0')\n",
    "df_c['resp_bytes'] = df_c['resp_bytes'].str.replace('-','0')"
   ]
  },
  {
   "cell_type": "code",
   "execution_count": 18,
   "metadata": {},
   "outputs": [
    {
     "data": {
      "text/plain": "ts                   0\nuid                  0\nid.orig_h            0\nid.orig_p            0\nid.resp_h            0\nid.resp_p            0\nservice              0\nduration             0\norig_bytes           0\nresp_bytes           0\nlocal_orig           0\nlocal_resp           0\nmissed_bytes         0\nhistory              0\norig_pkts            0\norig_ip_bytes        0\nresp_pkts            0\nresp_ip_bytes        0\nlabel                0\nproto_icmp           0\nproto_tcp            0\nproto_udp            0\nconn_state_OTH       0\nconn_state_REJ       0\nconn_state_RSTO      0\nconn_state_RSTOS0    0\nconn_state_RSTR      0\nconn_state_RSTRH     0\nconn_state_S0        0\nconn_state_S1        0\nconn_state_S2        0\nconn_state_S3        0\nconn_state_SF        0\nconn_state_SH        0\nconn_state_SHR       0\ndtype: int64"
     },
     "execution_count": 18,
     "metadata": {},
     "output_type": "execute_result"
    }
   ],
   "source": [
    "df_c.isna().sum()"
   ]
  },
  {
   "cell_type": "code",
   "execution_count": 19,
   "metadata": {},
   "outputs": [
    {
     "data": {
      "text/plain": "                      ts                 uid        id.orig_h  id.orig_p  \\\n0      1540469831.302625  CGQf8t1kjdxB5PHXL4    192.168.1.132    53395.0   \n1      1540469831.265405  CUo9DH2QDnCaBIGjkg    192.168.1.132    52801.0   \n2      1540469418.379528  CAvXOZ3htimWEtglii    192.168.1.132     1900.0   \n3      1540470081.850824  CfJsUD2NGQvnK2p7Vd    192.168.1.132    58124.0   \n4      1540470187.222098   CVwKZS98dRvk1jeH2    192.168.1.132    35313.0   \n...                  ...                 ...              ...        ...   \n99994  1532526102.004508  CMeH6R2aua5c5Dd65a  192.168.100.111    41762.0   \n99995   1532526102.00451  CvqGx33hsXDpDVXa1i  192.168.100.111    58758.0   \n99996  1532526102.004511   CC83RoUd9RLFuTL81  192.168.100.111    40400.0   \n99997  1532526102.004752  C4ISld2cuSukEEuQtk  192.168.100.111    27117.0   \n99998  1532526102.004756   C4U1azYmDx32faVY7  192.168.100.111    23227.0   \n\n             id.resp_h  id.resp_p service    duration orig_bytes resp_bytes  \\\n0           2.16.60.82      443.0       -    0.003497          0          0   \n1          192.168.1.1       53.0     dns    0.036724         34        311   \n2      239.255.255.250     1900.0       -  384.518261      15072          0   \n3        216.239.35.12      123.0       -    0.270332         48         48   \n4         216.239.35.0      123.0       -    0.111429         48         48   \n...                ...        ...     ...         ...        ...        ...   \n99994  221.182.209.127       23.0       -           0          0          0   \n99995    208.50.139.48       23.0       -           0          0          0   \n99996     40.95.136.51       23.0       -           0          0          0   \n99997   122.37.183.236       23.0       -           0          0          0   \n99998   189.62.234.179       23.0       -           0          0          0   \n\n      local_orig local_resp  missed_bytes history  orig_pkts  orig_ip_bytes  \\\n0              -          -           0.0   ShAFf        5.0          212.0   \n1              -          -           0.0      Dd        1.0           62.0   \n2              -          -           0.0       D       48.0        16416.0   \n3              -          -           0.0      Dd        1.0           76.0   \n4              -          -           0.0      Dd        1.0           76.0   \n...          ...        ...           ...     ...        ...            ...   \n99994          -          -           0.0       S        1.0           40.0   \n99995          -          -           0.0       S        1.0           40.0   \n99996          -          -           0.0       S        1.0           40.0   \n99997          -          -           0.0       S        1.0           40.0   \n99998          -          -           0.0       S        1.0           40.0   \n\n       resp_pkts  resp_ip_bytes                      label  proto_icmp  \\\n0            3.0          144.0                     Benign           0   \n1            1.0          339.0                     Benign           0   \n2            0.0            0.0                     Benign           0   \n3            1.0           76.0                     Benign           0   \n4            1.0           76.0                     Benign           0   \n...          ...            ...                        ...         ...   \n99994        0.0            0.0  PartOfAHorizontalPortScan           0   \n99995        0.0            0.0  PartOfAHorizontalPortScan           0   \n99996        0.0            0.0  PartOfAHorizontalPortScan           0   \n99997        0.0            0.0  PartOfAHorizontalPortScan           0   \n99998        0.0            0.0  PartOfAHorizontalPortScan           0   \n\n       proto_tcp  proto_udp  conn_state_OTH  conn_state_REJ  conn_state_RSTO  \\\n0              1          0               0               0                0   \n1              0          1               0               0                0   \n2              0          1               0               0                0   \n3              0          1               0               0                0   \n4              0          1               0               0                0   \n...          ...        ...             ...             ...              ...   \n99994          1          0               0               0                0   \n99995          1          0               0               0                0   \n99996          1          0               0               0                0   \n99997          1          0               0               0                0   \n99998          1          0               0               0                0   \n\n       conn_state_RSTOS0  conn_state_RSTR  conn_state_RSTRH  conn_state_S0  \\\n0                      0                0                 0              0   \n1                      0                0                 0              0   \n2                      0                0                 0              1   \n3                      0                0                 0              0   \n4                      0                0                 0              0   \n...                  ...              ...               ...            ...   \n99994                  0                0                 0              1   \n99995                  0                0                 0              1   \n99996                  0                0                 0              1   \n99997                  0                0                 0              1   \n99998                  0                0                 0              1   \n\n       conn_state_S1  conn_state_S2  conn_state_S3  conn_state_SF  \\\n0                  0              0              0              1   \n1                  0              0              0              1   \n2                  0              0              0              0   \n3                  0              0              0              1   \n4                  0              0              0              1   \n...              ...            ...            ...            ...   \n99994              0              0              0              0   \n99995              0              0              0              0   \n99996              0              0              0              0   \n99997              0              0              0              0   \n99998              0              0              0              0   \n\n       conn_state_SH  conn_state_SHR  \n0                  0               0  \n1                  0               0  \n2                  0               0  \n3                  0               0  \n4                  0               0  \n...              ...             ...  \n99994              0               0  \n99995              0               0  \n99996              0               0  \n99997              0               0  \n99998              0               0  \n\n[1446621 rows x 35 columns]",
      "text/html": "<div>\n<style scoped>\n    .dataframe tbody tr th:only-of-type {\n        vertical-align: middle;\n    }\n\n    .dataframe tbody tr th {\n        vertical-align: top;\n    }\n\n    .dataframe thead th {\n        text-align: right;\n    }\n</style>\n<table border=\"1\" class=\"dataframe\">\n  <thead>\n    <tr style=\"text-align: right;\">\n      <th></th>\n      <th>ts</th>\n      <th>uid</th>\n      <th>id.orig_h</th>\n      <th>id.orig_p</th>\n      <th>id.resp_h</th>\n      <th>id.resp_p</th>\n      <th>service</th>\n      <th>duration</th>\n      <th>orig_bytes</th>\n      <th>resp_bytes</th>\n      <th>local_orig</th>\n      <th>local_resp</th>\n      <th>missed_bytes</th>\n      <th>history</th>\n      <th>orig_pkts</th>\n      <th>orig_ip_bytes</th>\n      <th>resp_pkts</th>\n      <th>resp_ip_bytes</th>\n      <th>label</th>\n      <th>proto_icmp</th>\n      <th>proto_tcp</th>\n      <th>proto_udp</th>\n      <th>conn_state_OTH</th>\n      <th>conn_state_REJ</th>\n      <th>conn_state_RSTO</th>\n      <th>conn_state_RSTOS0</th>\n      <th>conn_state_RSTR</th>\n      <th>conn_state_RSTRH</th>\n      <th>conn_state_S0</th>\n      <th>conn_state_S1</th>\n      <th>conn_state_S2</th>\n      <th>conn_state_S3</th>\n      <th>conn_state_SF</th>\n      <th>conn_state_SH</th>\n      <th>conn_state_SHR</th>\n    </tr>\n  </thead>\n  <tbody>\n    <tr>\n      <th>0</th>\n      <td>1540469831.302625</td>\n      <td>CGQf8t1kjdxB5PHXL4</td>\n      <td>192.168.1.132</td>\n      <td>53395.0</td>\n      <td>2.16.60.82</td>\n      <td>443.0</td>\n      <td>-</td>\n      <td>0.003497</td>\n      <td>0</td>\n      <td>0</td>\n      <td>-</td>\n      <td>-</td>\n      <td>0.0</td>\n      <td>ShAFf</td>\n      <td>5.0</td>\n      <td>212.0</td>\n      <td>3.0</td>\n      <td>144.0</td>\n      <td>Benign</td>\n      <td>0</td>\n      <td>1</td>\n      <td>0</td>\n      <td>0</td>\n      <td>0</td>\n      <td>0</td>\n      <td>0</td>\n      <td>0</td>\n      <td>0</td>\n      <td>0</td>\n      <td>0</td>\n      <td>0</td>\n      <td>0</td>\n      <td>1</td>\n      <td>0</td>\n      <td>0</td>\n    </tr>\n    <tr>\n      <th>1</th>\n      <td>1540469831.265405</td>\n      <td>CUo9DH2QDnCaBIGjkg</td>\n      <td>192.168.1.132</td>\n      <td>52801.0</td>\n      <td>192.168.1.1</td>\n      <td>53.0</td>\n      <td>dns</td>\n      <td>0.036724</td>\n      <td>34</td>\n      <td>311</td>\n      <td>-</td>\n      <td>-</td>\n      <td>0.0</td>\n      <td>Dd</td>\n      <td>1.0</td>\n      <td>62.0</td>\n      <td>1.0</td>\n      <td>339.0</td>\n      <td>Benign</td>\n      <td>0</td>\n      <td>0</td>\n      <td>1</td>\n      <td>0</td>\n      <td>0</td>\n      <td>0</td>\n      <td>0</td>\n      <td>0</td>\n      <td>0</td>\n      <td>0</td>\n      <td>0</td>\n      <td>0</td>\n      <td>0</td>\n      <td>1</td>\n      <td>0</td>\n      <td>0</td>\n    </tr>\n    <tr>\n      <th>2</th>\n      <td>1540469418.379528</td>\n      <td>CAvXOZ3htimWEtglii</td>\n      <td>192.168.1.132</td>\n      <td>1900.0</td>\n      <td>239.255.255.250</td>\n      <td>1900.0</td>\n      <td>-</td>\n      <td>384.518261</td>\n      <td>15072</td>\n      <td>0</td>\n      <td>-</td>\n      <td>-</td>\n      <td>0.0</td>\n      <td>D</td>\n      <td>48.0</td>\n      <td>16416.0</td>\n      <td>0.0</td>\n      <td>0.0</td>\n      <td>Benign</td>\n      <td>0</td>\n      <td>0</td>\n      <td>1</td>\n      <td>0</td>\n      <td>0</td>\n      <td>0</td>\n      <td>0</td>\n      <td>0</td>\n      <td>0</td>\n      <td>1</td>\n      <td>0</td>\n      <td>0</td>\n      <td>0</td>\n      <td>0</td>\n      <td>0</td>\n      <td>0</td>\n    </tr>\n    <tr>\n      <th>3</th>\n      <td>1540470081.850824</td>\n      <td>CfJsUD2NGQvnK2p7Vd</td>\n      <td>192.168.1.132</td>\n      <td>58124.0</td>\n      <td>216.239.35.12</td>\n      <td>123.0</td>\n      <td>-</td>\n      <td>0.270332</td>\n      <td>48</td>\n      <td>48</td>\n      <td>-</td>\n      <td>-</td>\n      <td>0.0</td>\n      <td>Dd</td>\n      <td>1.0</td>\n      <td>76.0</td>\n      <td>1.0</td>\n      <td>76.0</td>\n      <td>Benign</td>\n      <td>0</td>\n      <td>0</td>\n      <td>1</td>\n      <td>0</td>\n      <td>0</td>\n      <td>0</td>\n      <td>0</td>\n      <td>0</td>\n      <td>0</td>\n      <td>0</td>\n      <td>0</td>\n      <td>0</td>\n      <td>0</td>\n      <td>1</td>\n      <td>0</td>\n      <td>0</td>\n    </tr>\n    <tr>\n      <th>4</th>\n      <td>1540470187.222098</td>\n      <td>CVwKZS98dRvk1jeH2</td>\n      <td>192.168.1.132</td>\n      <td>35313.0</td>\n      <td>216.239.35.0</td>\n      <td>123.0</td>\n      <td>-</td>\n      <td>0.111429</td>\n      <td>48</td>\n      <td>48</td>\n      <td>-</td>\n      <td>-</td>\n      <td>0.0</td>\n      <td>Dd</td>\n      <td>1.0</td>\n      <td>76.0</td>\n      <td>1.0</td>\n      <td>76.0</td>\n      <td>Benign</td>\n      <td>0</td>\n      <td>0</td>\n      <td>1</td>\n      <td>0</td>\n      <td>0</td>\n      <td>0</td>\n      <td>0</td>\n      <td>0</td>\n      <td>0</td>\n      <td>0</td>\n      <td>0</td>\n      <td>0</td>\n      <td>0</td>\n      <td>1</td>\n      <td>0</td>\n      <td>0</td>\n    </tr>\n    <tr>\n      <th>...</th>\n      <td>...</td>\n      <td>...</td>\n      <td>...</td>\n      <td>...</td>\n      <td>...</td>\n      <td>...</td>\n      <td>...</td>\n      <td>...</td>\n      <td>...</td>\n      <td>...</td>\n      <td>...</td>\n      <td>...</td>\n      <td>...</td>\n      <td>...</td>\n      <td>...</td>\n      <td>...</td>\n      <td>...</td>\n      <td>...</td>\n      <td>...</td>\n      <td>...</td>\n      <td>...</td>\n      <td>...</td>\n      <td>...</td>\n      <td>...</td>\n      <td>...</td>\n      <td>...</td>\n      <td>...</td>\n      <td>...</td>\n      <td>...</td>\n      <td>...</td>\n      <td>...</td>\n      <td>...</td>\n      <td>...</td>\n      <td>...</td>\n      <td>...</td>\n    </tr>\n    <tr>\n      <th>99994</th>\n      <td>1532526102.004508</td>\n      <td>CMeH6R2aua5c5Dd65a</td>\n      <td>192.168.100.111</td>\n      <td>41762.0</td>\n      <td>221.182.209.127</td>\n      <td>23.0</td>\n      <td>-</td>\n      <td>0</td>\n      <td>0</td>\n      <td>0</td>\n      <td>-</td>\n      <td>-</td>\n      <td>0.0</td>\n      <td>S</td>\n      <td>1.0</td>\n      <td>40.0</td>\n      <td>0.0</td>\n      <td>0.0</td>\n      <td>PartOfAHorizontalPortScan</td>\n      <td>0</td>\n      <td>1</td>\n      <td>0</td>\n      <td>0</td>\n      <td>0</td>\n      <td>0</td>\n      <td>0</td>\n      <td>0</td>\n      <td>0</td>\n      <td>1</td>\n      <td>0</td>\n      <td>0</td>\n      <td>0</td>\n      <td>0</td>\n      <td>0</td>\n      <td>0</td>\n    </tr>\n    <tr>\n      <th>99995</th>\n      <td>1532526102.00451</td>\n      <td>CvqGx33hsXDpDVXa1i</td>\n      <td>192.168.100.111</td>\n      <td>58758.0</td>\n      <td>208.50.139.48</td>\n      <td>23.0</td>\n      <td>-</td>\n      <td>0</td>\n      <td>0</td>\n      <td>0</td>\n      <td>-</td>\n      <td>-</td>\n      <td>0.0</td>\n      <td>S</td>\n      <td>1.0</td>\n      <td>40.0</td>\n      <td>0.0</td>\n      <td>0.0</td>\n      <td>PartOfAHorizontalPortScan</td>\n      <td>0</td>\n      <td>1</td>\n      <td>0</td>\n      <td>0</td>\n      <td>0</td>\n      <td>0</td>\n      <td>0</td>\n      <td>0</td>\n      <td>0</td>\n      <td>1</td>\n      <td>0</td>\n      <td>0</td>\n      <td>0</td>\n      <td>0</td>\n      <td>0</td>\n      <td>0</td>\n    </tr>\n    <tr>\n      <th>99996</th>\n      <td>1532526102.004511</td>\n      <td>CC83RoUd9RLFuTL81</td>\n      <td>192.168.100.111</td>\n      <td>40400.0</td>\n      <td>40.95.136.51</td>\n      <td>23.0</td>\n      <td>-</td>\n      <td>0</td>\n      <td>0</td>\n      <td>0</td>\n      <td>-</td>\n      <td>-</td>\n      <td>0.0</td>\n      <td>S</td>\n      <td>1.0</td>\n      <td>40.0</td>\n      <td>0.0</td>\n      <td>0.0</td>\n      <td>PartOfAHorizontalPortScan</td>\n      <td>0</td>\n      <td>1</td>\n      <td>0</td>\n      <td>0</td>\n      <td>0</td>\n      <td>0</td>\n      <td>0</td>\n      <td>0</td>\n      <td>0</td>\n      <td>1</td>\n      <td>0</td>\n      <td>0</td>\n      <td>0</td>\n      <td>0</td>\n      <td>0</td>\n      <td>0</td>\n    </tr>\n    <tr>\n      <th>99997</th>\n      <td>1532526102.004752</td>\n      <td>C4ISld2cuSukEEuQtk</td>\n      <td>192.168.100.111</td>\n      <td>27117.0</td>\n      <td>122.37.183.236</td>\n      <td>23.0</td>\n      <td>-</td>\n      <td>0</td>\n      <td>0</td>\n      <td>0</td>\n      <td>-</td>\n      <td>-</td>\n      <td>0.0</td>\n      <td>S</td>\n      <td>1.0</td>\n      <td>40.0</td>\n      <td>0.0</td>\n      <td>0.0</td>\n      <td>PartOfAHorizontalPortScan</td>\n      <td>0</td>\n      <td>1</td>\n      <td>0</td>\n      <td>0</td>\n      <td>0</td>\n      <td>0</td>\n      <td>0</td>\n      <td>0</td>\n      <td>0</td>\n      <td>1</td>\n      <td>0</td>\n      <td>0</td>\n      <td>0</td>\n      <td>0</td>\n      <td>0</td>\n      <td>0</td>\n    </tr>\n    <tr>\n      <th>99998</th>\n      <td>1532526102.004756</td>\n      <td>C4U1azYmDx32faVY7</td>\n      <td>192.168.100.111</td>\n      <td>23227.0</td>\n      <td>189.62.234.179</td>\n      <td>23.0</td>\n      <td>-</td>\n      <td>0</td>\n      <td>0</td>\n      <td>0</td>\n      <td>-</td>\n      <td>-</td>\n      <td>0.0</td>\n      <td>S</td>\n      <td>1.0</td>\n      <td>40.0</td>\n      <td>0.0</td>\n      <td>0.0</td>\n      <td>PartOfAHorizontalPortScan</td>\n      <td>0</td>\n      <td>1</td>\n      <td>0</td>\n      <td>0</td>\n      <td>0</td>\n      <td>0</td>\n      <td>0</td>\n      <td>0</td>\n      <td>0</td>\n      <td>1</td>\n      <td>0</td>\n      <td>0</td>\n      <td>0</td>\n      <td>0</td>\n      <td>0</td>\n      <td>0</td>\n    </tr>\n  </tbody>\n</table>\n<p>1446621 rows × 35 columns</p>\n</div>"
     },
     "execution_count": 19,
     "metadata": {},
     "output_type": "execute_result"
    }
   ],
   "source": [
    "df_c"
   ]
  },
  {
   "cell_type": "code",
   "execution_count": 20,
   "metadata": {},
   "outputs": [],
   "source": [
    "df_c = df_c.drop(columns=['uid', 'id.orig_p','id.resp_h','id.resp_p',\n",
    "                               'service','local_orig','local_resp','history'])"
   ]
  },
  {
   "cell_type": "code",
   "execution_count": 22,
   "outputs": [
    {
     "data": {
      "text/plain": "                      ts        id.orig_h    duration orig_bytes resp_bytes  \\\n0      1540469831.302625    192.168.1.132    0.003497          0          0   \n1      1540469831.265405    192.168.1.132    0.036724         34        311   \n2      1540469418.379528    192.168.1.132  384.518261      15072          0   \n3      1540470081.850824    192.168.1.132    0.270332         48         48   \n4      1540470187.222098    192.168.1.132    0.111429         48         48   \n...                  ...              ...         ...        ...        ...   \n99994  1532526102.004508  192.168.100.111           0          0          0   \n99995   1532526102.00451  192.168.100.111           0          0          0   \n99996  1532526102.004511  192.168.100.111           0          0          0   \n99997  1532526102.004752  192.168.100.111           0          0          0   \n99998  1532526102.004756  192.168.100.111           0          0          0   \n\n       missed_bytes  orig_pkts  orig_ip_bytes  resp_pkts  resp_ip_bytes  \\\n0               0.0        5.0          212.0        3.0          144.0   \n1               0.0        1.0           62.0        1.0          339.0   \n2               0.0       48.0        16416.0        0.0            0.0   \n3               0.0        1.0           76.0        1.0           76.0   \n4               0.0        1.0           76.0        1.0           76.0   \n...             ...        ...            ...        ...            ...   \n99994           0.0        1.0           40.0        0.0            0.0   \n99995           0.0        1.0           40.0        0.0            0.0   \n99996           0.0        1.0           40.0        0.0            0.0   \n99997           0.0        1.0           40.0        0.0            0.0   \n99998           0.0        1.0           40.0        0.0            0.0   \n\n                           label  proto_icmp  proto_tcp  proto_udp  \\\n0                         Benign           0          1          0   \n1                         Benign           0          0          1   \n2                         Benign           0          0          1   \n3                         Benign           0          0          1   \n4                         Benign           0          0          1   \n...                          ...         ...        ...        ...   \n99994  PartOfAHorizontalPortScan           0          1          0   \n99995  PartOfAHorizontalPortScan           0          1          0   \n99996  PartOfAHorizontalPortScan           0          1          0   \n99997  PartOfAHorizontalPortScan           0          1          0   \n99998  PartOfAHorizontalPortScan           0          1          0   \n\n       conn_state_OTH  conn_state_REJ  conn_state_RSTO  conn_state_RSTOS0  \\\n0                   0               0                0                  0   \n1                   0               0                0                  0   \n2                   0               0                0                  0   \n3                   0               0                0                  0   \n4                   0               0                0                  0   \n...               ...             ...              ...                ...   \n99994               0               0                0                  0   \n99995               0               0                0                  0   \n99996               0               0                0                  0   \n99997               0               0                0                  0   \n99998               0               0                0                  0   \n\n       conn_state_RSTR  conn_state_RSTRH  conn_state_S0  conn_state_S1  \\\n0                    0                 0              0              0   \n1                    0                 0              0              0   \n2                    0                 0              1              0   \n3                    0                 0              0              0   \n4                    0                 0              0              0   \n...                ...               ...            ...            ...   \n99994                0                 0              1              0   \n99995                0                 0              1              0   \n99996                0                 0              1              0   \n99997                0                 0              1              0   \n99998                0                 0              1              0   \n\n       conn_state_S2  conn_state_S3  conn_state_SF  conn_state_SH  \\\n0                  0              0              1              0   \n1                  0              0              1              0   \n2                  0              0              0              0   \n3                  0              0              1              0   \n4                  0              0              1              0   \n...              ...            ...            ...            ...   \n99994              0              0              0              0   \n99995              0              0              0              0   \n99996              0              0              0              0   \n99997              0              0              0              0   \n99998              0              0              0              0   \n\n       conn_state_SHR  \n0                   0  \n1                   0  \n2                   0  \n3                   0  \n4                   0  \n...               ...  \n99994               0  \n99995               0  \n99996               0  \n99997               0  \n99998               0  \n\n[1446621 rows x 27 columns]",
      "text/html": "<div>\n<style scoped>\n    .dataframe tbody tr th:only-of-type {\n        vertical-align: middle;\n    }\n\n    .dataframe tbody tr th {\n        vertical-align: top;\n    }\n\n    .dataframe thead th {\n        text-align: right;\n    }\n</style>\n<table border=\"1\" class=\"dataframe\">\n  <thead>\n    <tr style=\"text-align: right;\">\n      <th></th>\n      <th>ts</th>\n      <th>id.orig_h</th>\n      <th>duration</th>\n      <th>orig_bytes</th>\n      <th>resp_bytes</th>\n      <th>missed_bytes</th>\n      <th>orig_pkts</th>\n      <th>orig_ip_bytes</th>\n      <th>resp_pkts</th>\n      <th>resp_ip_bytes</th>\n      <th>label</th>\n      <th>proto_icmp</th>\n      <th>proto_tcp</th>\n      <th>proto_udp</th>\n      <th>conn_state_OTH</th>\n      <th>conn_state_REJ</th>\n      <th>conn_state_RSTO</th>\n      <th>conn_state_RSTOS0</th>\n      <th>conn_state_RSTR</th>\n      <th>conn_state_RSTRH</th>\n      <th>conn_state_S0</th>\n      <th>conn_state_S1</th>\n      <th>conn_state_S2</th>\n      <th>conn_state_S3</th>\n      <th>conn_state_SF</th>\n      <th>conn_state_SH</th>\n      <th>conn_state_SHR</th>\n    </tr>\n  </thead>\n  <tbody>\n    <tr>\n      <th>0</th>\n      <td>1540469831.302625</td>\n      <td>192.168.1.132</td>\n      <td>0.003497</td>\n      <td>0</td>\n      <td>0</td>\n      <td>0.0</td>\n      <td>5.0</td>\n      <td>212.0</td>\n      <td>3.0</td>\n      <td>144.0</td>\n      <td>Benign</td>\n      <td>0</td>\n      <td>1</td>\n      <td>0</td>\n      <td>0</td>\n      <td>0</td>\n      <td>0</td>\n      <td>0</td>\n      <td>0</td>\n      <td>0</td>\n      <td>0</td>\n      <td>0</td>\n      <td>0</td>\n      <td>0</td>\n      <td>1</td>\n      <td>0</td>\n      <td>0</td>\n    </tr>\n    <tr>\n      <th>1</th>\n      <td>1540469831.265405</td>\n      <td>192.168.1.132</td>\n      <td>0.036724</td>\n      <td>34</td>\n      <td>311</td>\n      <td>0.0</td>\n      <td>1.0</td>\n      <td>62.0</td>\n      <td>1.0</td>\n      <td>339.0</td>\n      <td>Benign</td>\n      <td>0</td>\n      <td>0</td>\n      <td>1</td>\n      <td>0</td>\n      <td>0</td>\n      <td>0</td>\n      <td>0</td>\n      <td>0</td>\n      <td>0</td>\n      <td>0</td>\n      <td>0</td>\n      <td>0</td>\n      <td>0</td>\n      <td>1</td>\n      <td>0</td>\n      <td>0</td>\n    </tr>\n    <tr>\n      <th>2</th>\n      <td>1540469418.379528</td>\n      <td>192.168.1.132</td>\n      <td>384.518261</td>\n      <td>15072</td>\n      <td>0</td>\n      <td>0.0</td>\n      <td>48.0</td>\n      <td>16416.0</td>\n      <td>0.0</td>\n      <td>0.0</td>\n      <td>Benign</td>\n      <td>0</td>\n      <td>0</td>\n      <td>1</td>\n      <td>0</td>\n      <td>0</td>\n      <td>0</td>\n      <td>0</td>\n      <td>0</td>\n      <td>0</td>\n      <td>1</td>\n      <td>0</td>\n      <td>0</td>\n      <td>0</td>\n      <td>0</td>\n      <td>0</td>\n      <td>0</td>\n    </tr>\n    <tr>\n      <th>3</th>\n      <td>1540470081.850824</td>\n      <td>192.168.1.132</td>\n      <td>0.270332</td>\n      <td>48</td>\n      <td>48</td>\n      <td>0.0</td>\n      <td>1.0</td>\n      <td>76.0</td>\n      <td>1.0</td>\n      <td>76.0</td>\n      <td>Benign</td>\n      <td>0</td>\n      <td>0</td>\n      <td>1</td>\n      <td>0</td>\n      <td>0</td>\n      <td>0</td>\n      <td>0</td>\n      <td>0</td>\n      <td>0</td>\n      <td>0</td>\n      <td>0</td>\n      <td>0</td>\n      <td>0</td>\n      <td>1</td>\n      <td>0</td>\n      <td>0</td>\n    </tr>\n    <tr>\n      <th>4</th>\n      <td>1540470187.222098</td>\n      <td>192.168.1.132</td>\n      <td>0.111429</td>\n      <td>48</td>\n      <td>48</td>\n      <td>0.0</td>\n      <td>1.0</td>\n      <td>76.0</td>\n      <td>1.0</td>\n      <td>76.0</td>\n      <td>Benign</td>\n      <td>0</td>\n      <td>0</td>\n      <td>1</td>\n      <td>0</td>\n      <td>0</td>\n      <td>0</td>\n      <td>0</td>\n      <td>0</td>\n      <td>0</td>\n      <td>0</td>\n      <td>0</td>\n      <td>0</td>\n      <td>0</td>\n      <td>1</td>\n      <td>0</td>\n      <td>0</td>\n    </tr>\n    <tr>\n      <th>...</th>\n      <td>...</td>\n      <td>...</td>\n      <td>...</td>\n      <td>...</td>\n      <td>...</td>\n      <td>...</td>\n      <td>...</td>\n      <td>...</td>\n      <td>...</td>\n      <td>...</td>\n      <td>...</td>\n      <td>...</td>\n      <td>...</td>\n      <td>...</td>\n      <td>...</td>\n      <td>...</td>\n      <td>...</td>\n      <td>...</td>\n      <td>...</td>\n      <td>...</td>\n      <td>...</td>\n      <td>...</td>\n      <td>...</td>\n      <td>...</td>\n      <td>...</td>\n      <td>...</td>\n      <td>...</td>\n    </tr>\n    <tr>\n      <th>99994</th>\n      <td>1532526102.004508</td>\n      <td>192.168.100.111</td>\n      <td>0</td>\n      <td>0</td>\n      <td>0</td>\n      <td>0.0</td>\n      <td>1.0</td>\n      <td>40.0</td>\n      <td>0.0</td>\n      <td>0.0</td>\n      <td>PartOfAHorizontalPortScan</td>\n      <td>0</td>\n      <td>1</td>\n      <td>0</td>\n      <td>0</td>\n      <td>0</td>\n      <td>0</td>\n      <td>0</td>\n      <td>0</td>\n      <td>0</td>\n      <td>1</td>\n      <td>0</td>\n      <td>0</td>\n      <td>0</td>\n      <td>0</td>\n      <td>0</td>\n      <td>0</td>\n    </tr>\n    <tr>\n      <th>99995</th>\n      <td>1532526102.00451</td>\n      <td>192.168.100.111</td>\n      <td>0</td>\n      <td>0</td>\n      <td>0</td>\n      <td>0.0</td>\n      <td>1.0</td>\n      <td>40.0</td>\n      <td>0.0</td>\n      <td>0.0</td>\n      <td>PartOfAHorizontalPortScan</td>\n      <td>0</td>\n      <td>1</td>\n      <td>0</td>\n      <td>0</td>\n      <td>0</td>\n      <td>0</td>\n      <td>0</td>\n      <td>0</td>\n      <td>0</td>\n      <td>1</td>\n      <td>0</td>\n      <td>0</td>\n      <td>0</td>\n      <td>0</td>\n      <td>0</td>\n      <td>0</td>\n    </tr>\n    <tr>\n      <th>99996</th>\n      <td>1532526102.004511</td>\n      <td>192.168.100.111</td>\n      <td>0</td>\n      <td>0</td>\n      <td>0</td>\n      <td>0.0</td>\n      <td>1.0</td>\n      <td>40.0</td>\n      <td>0.0</td>\n      <td>0.0</td>\n      <td>PartOfAHorizontalPortScan</td>\n      <td>0</td>\n      <td>1</td>\n      <td>0</td>\n      <td>0</td>\n      <td>0</td>\n      <td>0</td>\n      <td>0</td>\n      <td>0</td>\n      <td>0</td>\n      <td>1</td>\n      <td>0</td>\n      <td>0</td>\n      <td>0</td>\n      <td>0</td>\n      <td>0</td>\n      <td>0</td>\n    </tr>\n    <tr>\n      <th>99997</th>\n      <td>1532526102.004752</td>\n      <td>192.168.100.111</td>\n      <td>0</td>\n      <td>0</td>\n      <td>0</td>\n      <td>0.0</td>\n      <td>1.0</td>\n      <td>40.0</td>\n      <td>0.0</td>\n      <td>0.0</td>\n      <td>PartOfAHorizontalPortScan</td>\n      <td>0</td>\n      <td>1</td>\n      <td>0</td>\n      <td>0</td>\n      <td>0</td>\n      <td>0</td>\n      <td>0</td>\n      <td>0</td>\n      <td>0</td>\n      <td>1</td>\n      <td>0</td>\n      <td>0</td>\n      <td>0</td>\n      <td>0</td>\n      <td>0</td>\n      <td>0</td>\n    </tr>\n    <tr>\n      <th>99998</th>\n      <td>1532526102.004756</td>\n      <td>192.168.100.111</td>\n      <td>0</td>\n      <td>0</td>\n      <td>0</td>\n      <td>0.0</td>\n      <td>1.0</td>\n      <td>40.0</td>\n      <td>0.0</td>\n      <td>0.0</td>\n      <td>PartOfAHorizontalPortScan</td>\n      <td>0</td>\n      <td>1</td>\n      <td>0</td>\n      <td>0</td>\n      <td>0</td>\n      <td>0</td>\n      <td>0</td>\n      <td>0</td>\n      <td>0</td>\n      <td>1</td>\n      <td>0</td>\n      <td>0</td>\n      <td>0</td>\n      <td>0</td>\n      <td>0</td>\n      <td>0</td>\n    </tr>\n  </tbody>\n</table>\n<p>1446621 rows × 27 columns</p>\n</div>"
     },
     "execution_count": 22,
     "metadata": {},
     "output_type": "execute_result"
    }
   ],
   "source": [
    "df_c"
   ],
   "metadata": {
    "collapsed": false,
    "pycharm": {
     "name": "#%%\n"
    }
   }
  },
  {
   "cell_type": "code",
   "execution_count": 23,
   "metadata": {},
   "outputs": [],
   "source": [
    "df_c.to_csv('iot23_combined.csv')"
   ]
  },
  {
   "cell_type": "code",
   "execution_count": null,
   "metadata": {},
   "outputs": [],
   "source": []
  }
 ],
 "metadata": {
  "kernelspec": {
   "display_name": "Python 3",
   "language": "python",
   "name": "python3"
  },
  "language_info": {
   "codemirror_mode": {
    "name": "ipython",
    "version": 3
   },
   "file_extension": ".py",
   "mimetype": "text/x-python",
   "name": "python",
   "nbconvert_exporter": "python",
   "pygments_lexer": "ipython3",
   "version": "3.6.9"
  }
 },
 "nbformat": 4,
 "nbformat_minor": 1
}